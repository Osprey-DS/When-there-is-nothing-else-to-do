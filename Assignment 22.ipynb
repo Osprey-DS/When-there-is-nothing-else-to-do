{
 "cells": [
  {
   "cell_type": "markdown",
   "id": "assisted-episode",
   "metadata": {},
   "source": [
    "# Python Basic Assignment 22"
   ]
  },
  {
   "cell_type": "code",
   "execution_count": null,
   "id": "formal-major",
   "metadata": {},
   "outputs": [],
   "source": []
  },
  {
   "cell_type": "markdown",
   "id": "crazy-worth",
   "metadata": {},
   "source": [
    "## 1. What is the output of the following code, and why?\n",
    "\n",
    "    X = 'Spam'\n",
    "\n",
    "    def func():\n",
    "\n",
    "    print(X)\n",
    "\n",
    "     func()\n"
   ]
  },
  {
   "cell_type": "code",
   "execution_count": 1,
   "id": "silent-convention",
   "metadata": {},
   "outputs": [
    {
     "name": "stdout",
     "output_type": "stream",
     "text": [
      "Spam\n"
     ]
    }
   ],
   "source": [
    "X = 'Spam'\n",
    "def func():\n",
    "    print(X)\n",
    "    \n",
    "func()"
   ]
  },
  {
   "cell_type": "markdown",
   "id": "earlier-disclosure",
   "metadata": {},
   "source": [
    "     Ans>>The above function give us output 'spam' as it was declared earlier. althoug it was on out side of the function. it was print beacuse inside of function we did not declared any variable 'X' that is why it first check it's local scope that is inside of the function, and when it didn't find any then it was look for global scope and find variable 'X' and print it."
   ]
  },
  {
   "cell_type": "code",
   "execution_count": null,
   "id": "serial-corporation",
   "metadata": {},
   "outputs": [],
   "source": []
  },
  {
   "cell_type": "markdown",
   "id": "suspected-homeless",
   "metadata": {},
   "source": [
    "## 2. What is the output of this code, and why?\n",
    "\n",
    " X = 'Spam'\n",
    "\n",
    " def func():\n",
    "\n",
    " X = 'NI!'\n",
    "\n",
    " func()\n",
    "\n",
    "print(X)\n"
   ]
  },
  {
   "cell_type": "code",
   "execution_count": 4,
   "id": "proud-handy",
   "metadata": {},
   "outputs": [
    {
     "name": "stdout",
     "output_type": "stream",
     "text": [
      "Spam\n"
     ]
    }
   ],
   "source": [
    "X = \"Spam\"\n",
    "def func():\n",
    "    X='Ni!'\n",
    "    \n",
    "    \n",
    "func()\n",
    "print(X)"
   ]
  },
  {
   "cell_type": "markdown",
   "id": "universal-progressive",
   "metadata": {},
   "source": [
    "    Ans The function did not return anything and print anything because we did not defien any print or return. \n",
    "\n",
    "    'Spam' is printed because 'Spam' is stored in side a variable called 'X' and we print it."
   ]
  },
  {
   "cell_type": "code",
   "execution_count": null,
   "id": "comparable-dressing",
   "metadata": {},
   "outputs": [],
   "source": []
  },
  {
   "cell_type": "markdown",
   "id": "acute-camcorder",
   "metadata": {},
   "source": [
    "## 3. What does this code print, and why?\n",
    "\n",
    "> X = 'Spam'\n",
    "\n",
    "> def func():\n",
    "\n",
    "   > X = 'NI'\n",
    "    \n",
    "   > print(X)\n",
    "    \n",
    "\n",
    "> func()\n",
    "> print(X)\n"
   ]
  },
  {
   "cell_type": "code",
   "execution_count": 5,
   "id": "separate-helen",
   "metadata": {},
   "outputs": [
    {
     "name": "stdout",
     "output_type": "stream",
     "text": [
      "Ni\n",
      "Spam\n"
     ]
    }
   ],
   "source": [
    "X= \"Spam\"\n",
    "def func():\n",
    "    X='Ni'\n",
    "    print(X)\n",
    "\n",
    "func()\n",
    "print(X)"
   ]
  },
  {
   "cell_type": "markdown",
   "id": "settled-increase",
   "metadata": {},
   "source": [
    "    The above cell priint 'Ni' because it was define inside the function and as function works it first check for variable in local scope and if it find it will stop searching and will execute the function. that is why 'Ni' is printed\n",
    "\n",
    "    ANd when we print(X) it simply return 'Spam' , because 'Ni' was inside the function."
   ]
  },
  {
   "cell_type": "code",
   "execution_count": null,
   "id": "proud-business",
   "metadata": {},
   "outputs": [],
   "source": []
  },
  {
   "cell_type": "markdown",
   "id": "demographic-income",
   "metadata": {},
   "source": [
    "## 4. What output does this code produce? Why?\n",
    "\n",
    "> X = 'Spam'\n",
    "\n",
    "> def func():\n",
    "\n",
    "   >global X\n",
    "   \n",
    "   >X = 'NI'\n",
    "\n",
    "> func()\n",
    "\n",
    "> print(X)\n"
   ]
  },
  {
   "cell_type": "code",
   "execution_count": 1,
   "id": "competent-fiction",
   "metadata": {},
   "outputs": [
    {
     "name": "stdout",
     "output_type": "stream",
     "text": [
      "Spam\n"
     ]
    }
   ],
   "source": [
    "X = 'Spam'\n",
    "def func():\n",
    "    global X\n",
    "    X='Ni'\n",
    "    \n",
    "print(X) #before calling the func()"
   ]
  },
  {
   "cell_type": "code",
   "execution_count": 3,
   "id": "interracial-irrigation",
   "metadata": {},
   "outputs": [
    {
     "name": "stdout",
     "output_type": "stream",
     "text": [
      "Ni\n"
     ]
    }
   ],
   "source": [
    "func()\n",
    "print(X)"
   ]
  },
  {
   "cell_type": "markdown",
   "id": "trained-clothing",
   "metadata": {},
   "source": [
    "    Ans The func() first defien 'X' variale as global by using global keyword then it change the variable value 'Spam' to 'Ni' this is what our func() does.\n",
    "\n",
    "    and then after calling the function we print X it return 'Ni' instaed of Spam because the function change the global value.\n",
    "     I print the valu X before calling the function for better understanding."
   ]
  },
  {
   "cell_type": "code",
   "execution_count": null,
   "id": "boxed-start",
   "metadata": {},
   "outputs": [],
   "source": []
  },
  {
   "cell_type": "markdown",
   "id": "satisfied-juice",
   "metadata": {},
   "source": [
    "## 5. What about this code—what’s the output, and why?\n",
    "\n",
    "> X = 'Spam'\n",
    "\n",
    "> def func():\n",
    "\n",
    "\n",
    "   >X = 'NI'\n",
    "        \n",
    "   >def nested():\n",
    "        \n",
    "   >print(X)\n",
    "            \n",
    "   >nested()\n",
    "        \n",
    "> func()\n",
    "> X\n"
   ]
  },
  {
   "cell_type": "code",
   "execution_count": 7,
   "id": "sudden-illinois",
   "metadata": {},
   "outputs": [
    {
     "name": "stdout",
     "output_type": "stream",
     "text": [
      "Ni\n"
     ]
    }
   ],
   "source": [
    "X='Spam'\n",
    "def func():\n",
    "    X='Ni'\n",
    "    def nested():\n",
    "        print(X)\n",
    "    return nested()\n",
    "\n",
    "\n",
    "func()"
   ]
  },
  {
   "cell_type": "code",
   "execution_count": 5,
   "id": "brief-majority",
   "metadata": {},
   "outputs": [
    {
     "data": {
      "text/plain": [
       "'Spam'"
      ]
     },
     "execution_count": 5,
     "metadata": {},
     "output_type": "execute_result"
    }
   ],
   "source": [
    "X"
   ]
  },
  {
   "cell_type": "markdown",
   "id": "severe-devon",
   "metadata": {},
   "source": [
    "The nested function print the X which is define under the main or upper function, as the function works it find value from lower level to upper level, so in that way it first find variable X in it's own socpe, but it was not abel to find , then it go to upper level or the upper function , here it find variable X , and print the value , and the upper fuinction return the nested value.\n",
    "\n",
    "When we call only X it return \"spam' beacuse we did not make any change here.\n"
   ]
  },
  {
   "cell_type": "code",
   "execution_count": null,
   "id": "continuing-sixth",
   "metadata": {},
   "outputs": [],
   "source": []
  },
  {
   "cell_type": "markdown",
   "id": "acoustic-basics",
   "metadata": {},
   "source": [
    "6. How about this example: what is its output in Python 3.X, and why?\n",
    "\n",
    "        def func():\n",
    "\n",
    "        X = 'NI'\n",
    "        \n",
    "        def nested():\n",
    "        \n",
    "            nonlocal X\n",
    "            \n",
    "            X = 'Spam'\n",
    "            \n",
    "        nested()\n",
    "        \n",
    "        print(X)\n",
    "        \n",
    "\n",
    "    func()\n"
   ]
  },
  {
   "cell_type": "code",
   "execution_count": 3,
   "id": "czech-producer",
   "metadata": {},
   "outputs": [
    {
     "ename": "NameError",
     "evalue": "name 'X' is not defined",
     "output_type": "error",
     "traceback": [
      "\u001b[1;31m---------------------------------------------------------------------------\u001b[0m",
      "\u001b[1;31mNameError\u001b[0m                                 Traceback (most recent call last)",
      "\u001b[1;32m<ipython-input-3-0894bd757443>\u001b[0m in \u001b[0;36m<module>\u001b[1;34m\u001b[0m\n\u001b[0;32m      8\u001b[0m \u001b[1;33m\u001b[0m\u001b[0m\n\u001b[0;32m      9\u001b[0m \u001b[1;33m\u001b[0m\u001b[0m\n\u001b[1;32m---> 10\u001b[1;33m \u001b[0mprint\u001b[0m\u001b[1;33m(\u001b[0m\u001b[0mX\u001b[0m\u001b[1;33m)\u001b[0m\u001b[1;33m\u001b[0m\u001b[1;33m\u001b[0m\u001b[0m\n\u001b[0m\u001b[0;32m     11\u001b[0m \u001b[0mfunc\u001b[0m\u001b[1;33m(\u001b[0m\u001b[1;33m)\u001b[0m\u001b[1;33m\u001b[0m\u001b[1;33m\u001b[0m\u001b[0m\n",
      "\u001b[1;31mNameError\u001b[0m: name 'X' is not defined"
     ]
    }
   ],
   "source": [
    "def func():\n",
    "    X='Ni'\n",
    "    def nested():\n",
    "        nonlocal X\n",
    "        X = 'Spam'\n",
    "        \n",
    "    return nested()\n",
    "\n",
    "\n",
    "print(X)\n",
    "func()"
   ]
  },
  {
   "cell_type": "markdown",
   "id": "latin-campbell",
   "metadata": {},
   "source": [
    "We use nonlocal keyword to tell the function that this variable is nonlocal or the var is not belong the inner function, so when we call print function with X we got error , because the X is not define earlier."
   ]
  },
  {
   "cell_type": "code",
   "execution_count": null,
   "id": "polished-helen",
   "metadata": {},
   "outputs": [],
   "source": []
  },
  {
   "cell_type": "markdown",
   "id": "forced-prime",
   "metadata": {},
   "source": [
    "# 7. Name three or more ways to retain state information in a Python function."
   ]
  },
  {
   "cell_type": "code",
   "execution_count": 4,
   "id": "sunset-globe",
   "metadata": {},
   "outputs": [],
   "source": [
    "############################################################################"
   ]
  },
  {
   "cell_type": "code",
   "execution_count": null,
   "id": "happy-mapping",
   "metadata": {},
   "outputs": [],
   "source": []
  }
 ],
 "metadata": {
  "kernelspec": {
   "display_name": "Python 3",
   "language": "python",
   "name": "python3"
  },
  "language_info": {
   "codemirror_mode": {
    "name": "ipython",
    "version": 3
   },
   "file_extension": ".py",
   "mimetype": "text/x-python",
   "name": "python",
   "nbconvert_exporter": "python",
   "pygments_lexer": "ipython3",
   "version": "3.8.8"
  }
 },
 "nbformat": 4,
 "nbformat_minor": 5
}
